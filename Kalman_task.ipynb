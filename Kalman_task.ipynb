{
 "cells": [
  {
   "cell_type": "code",
   "execution_count": 21,
   "metadata": {
    "scrolled": true
   },
   "outputs": [
    {
     "ename": "ModuleNotFoundError",
     "evalue": "No module named 'robot'",
     "output_type": "error",
     "traceback": [
      "\u001b[1;31m---------------------------------------------------------------------------\u001b[0m",
      "\u001b[1;31mModuleNotFoundError\u001b[0m                       Traceback (most recent call last)",
      "\u001b[1;32m<ipython-input-21-e7dbb6ff5913>\u001b[0m in \u001b[0;36m<module>\u001b[1;34m()\u001b[0m\n\u001b[0;32m      1\u001b[0m \u001b[1;32mimport\u001b[0m \u001b[0msys\u001b[0m\u001b[1;33m\u001b[0m\u001b[0m\n\u001b[0;32m      2\u001b[0m \u001b[0msys\u001b[0m\u001b[1;33m.\u001b[0m\u001b[0mpath\u001b[0m\u001b[1;33m.\u001b[0m\u001b[0mappend\u001b[0m\u001b[1;33m(\u001b[0m\u001b[1;34m'../scripts/'\u001b[0m\u001b[1;33m)\u001b[0m\u001b[1;33m\u001b[0m\u001b[0m\n\u001b[1;32m----> 3\u001b[1;33m \u001b[1;32mfrom\u001b[0m \u001b[0mrobot\u001b[0m \u001b[1;32mimport\u001b[0m \u001b[1;33m*\u001b[0m\u001b[1;33m\u001b[0m\u001b[0m\n\u001b[0m\u001b[0;32m      4\u001b[0m \u001b[1;32mfrom\u001b[0m \u001b[0mscipy\u001b[0m\u001b[1;33m.\u001b[0m\u001b[0mstats\u001b[0m \u001b[1;32mimport\u001b[0m \u001b[0mmultivariate_normal\u001b[0m\u001b[1;33m\u001b[0m\u001b[0m\n\u001b[0;32m      5\u001b[0m \u001b[1;32mfrom\u001b[0m \u001b[0mmatplotlib\u001b[0m\u001b[1;33m.\u001b[0m\u001b[0mpatches\u001b[0m \u001b[1;32mimport\u001b[0m \u001b[0mEllipse\u001b[0m\u001b[1;33m\u001b[0m\u001b[0m\n",
      "\u001b[1;31mModuleNotFoundError\u001b[0m: No module named 'robot'"
     ]
    }
   ],
   "source": [
    "import sys\n",
    "sys.path.append('../scripts/')\n",
    "from robot import *\n",
    "from scipy.stats import multivariate_normal ###多変量ガウス分布のモジュール###\n",
    "from matplotlib.patches import Ellipse ###楕円の読み込み###"
   ]
  },
  {
   "cell_type": "code",
   "execution_count": 22,
   "metadata": {},
   "outputs": [],
   "source": [
    "def sigma_ellipse(p, cov, n):  ###共分散行列p,cov,nを設定\n",
    "    eig_vals, eig_vec = np.linalg.eig(cov)    ###行列covの固有値eig_vals,固有ベクトルeig_vecを導出 \n",
    "    ang = math.atan2(eig_vec[:,0][1], eig_vec[:,0][0])/math.pi*180 ###固有ベクトルeig_vecの角度angを導出\n",
    "    return Ellipse(p, width=n*math.sqrt(eig_vals[0]),height=n*math.sqrt(eig_vals[1]), angle=ang, fill=False, color=\"blue\", alpha=0.5) \n",
    "    ###中心座標p,幅n*√(eig_vals[0]),高さn*√(eig_vals[1]),回転角度angの楕円の設定\n",
    "    ###(((ここに楕円の説明)))"
   ]
  },
  {
   "cell_type": "code",
   "execution_count": 23,
   "metadata": {},
   "outputs": [],
   "source": [
    "class KalmanFilter: ###kf4init\n",
    "    def __init__(self, envmap, init_pose, motion_noise_stds, distance_dev_rate=0.14, direction_dev=0.05): #変数追加\n",
    "        self.belief = multivariate_normal(mean=init_pose, \\\n",
    "                                        cov=np.diag([1e-10, 1e-10, 1e-10])) ###多次元正規分布の乱数の設定###\n",
    "        self.motion_noise_stds = motion_noise_stds ###ノイズの設定###\n",
    "        self.map = envmap  #以下3行追加（Mclと同じ）\n",
    "        self.distance_dev_rate = distance_dev_rate\n",
    "        self.direction_dev = direction_dev\n",
    "        \n",
    "    def observation_update(self, observation):  ###観測値のフィルタリング\n",
    "        for d in observation:\n",
    "            z = d[0] ###前期の観測値の設定###\n",
    "            obs_id = d[1] ###今期の観測値の設定###\n",
    "            \n",
    "            ###離散化した出力行列Hの計算###\n",
    "            mx, my = self.map.landmarks[obs_id].pos ###今期の観測値の座標設定###\n",
    "            mux, muy, mut = self.belief.mean ###観測値の正規分布の設定###\n",
    "            q = (mux - mx)**2 + (muy - my)**2\n",
    "            sqrtq = np.sqrt(q) ###二つの観測値の距離の計算###\n",
    "            H = np.array([[(mux - mx)/sqrtq, (muy - my)/sqrtq, 0.0],  [(my - muy)/q, (mux - mx)/q, -1.0]]) ###離散化した出力行列の計算###\n",
    "            \n",
    "            ###共分散行列Qの計算###\n",
    "            hmu = IdealCamera.relative_polar_pos(self.belief.mean, self.map.landmarks[obs_id].pos) ###出力行列と推定値の積の計算###\n",
    "            distance_dev = self.distance_dev_rate*hmu[0]\n",
    "            Q = np.diag(np.array([distance_dev**2, self.direction_dev**2])) ###共分散行列の計算###\n",
    "            \n",
    "            ###カルマンゲインの計算###\n",
    "            K = self.belief.cov.dot(H.T).dot(np.linalg.inv(Q + H.dot(self.belief.cov).dot(H.T))) ###カルマンゲインの計算###\n",
    "            \n",
    "            ###更新###\n",
    "            self.belief.mean += K.dot(z - hmu) ###推定値meanの更新###\n",
    "            self.belief.cov = (np.eye(3) - K.dot(H)).dot(self.belief.cov) ###誤差共分散covの更新###\n",
    "            \n",
    "    def motion_update(self, nu, omega, time): \n",
    "        if abs(nu) < 1e-10 and abs(omega) < 1e-10: ###速度や角速度が極端に小さい場合に処理を回避する###\n",
    "            return\n",
    "\n",
    "        v = self.motion_noise_stds ###ノイズの共分散行列の設定###\n",
    "        M = np.diag([v[\"nn\"]**2*abs(nu)/time + v[\"no\"]**2*abs(omega)/time, \n",
    "                     v[\"on\"]**2*abs(nu)/time + v[\"oo\"]**2*abs(omega)/time]) ###共分散行列Mtのガウス分布の計算###\n",
    "        \n",
    "        t = self.belief.mean[2]　###推定値の設定###\n",
    "        A = time * np.array([[math.cos(t), 0.0], [math.sin(t), 0.0], [0.0, 1.0]]) ###ずれに比例して姿勢を決定する行列の計算###\n",
    "        \n",
    "        F = np.diag([1.0, 1.0, 1.0]) ###ヤコビ行列の計算###\n",
    "        if abs(omega) < 10e-5: ###omega = 0のとき###\n",
    "            F[0, 2] = - nu * time * math.sin(t) ###Fの3行1列の計算###\n",
    "            F[1, 2] = nu * time * math.cos(t) ###Fの3行2列の計算###\n",
    "        else: ###omega != 0のとき###\n",
    "            F[0, 2] = nu / omega * (math.cos(t + omega * time) - math.cos(t)) ###Fの3行1列の計算###\n",
    "            F[1, 2] = nu / omega * (math.sin(t + omega * time) - math.sin(t)) ###Fの3行2列の計算###\n",
    "            \n",
    "        self.belief.cov = F.dot(self.belief.cov).dot(F.T) + A.dot(M).dot(A.T) ###共分散行列の更新###\n",
    "        self.belief.mean = IdealRobot.state_transition(nu, omega, time, self.belief.mean) ###推定値の更新### \n",
    "        \n",
    "    def draw(self, ax, elems):\n",
    "        ###xy平面上の誤差の3シグマ範囲###\n",
    "        e = sigma_ellipse(self.belief.mean[0:2], self.belief.cov[0:2, 0:2], 10)\n",
    "        elems.append(ax.add_patch(e))\n",
    "\n",
    "        ###θ方向の誤差の3シグマ範囲###\n",
    "        x, y, c = self.belief.mean\n",
    "        sigma3 = math.sqrt(self.belief.cov[2, 2])*3\n",
    "        xs = [x + math.cos(c-sigma3), x, x + math.cos(c+sigma3)]\n",
    "        ys = [y + math.sin(c-sigma3), y, y + math.sin(c+sigma3)]\n",
    "        elems += ax.plot(xs, ys, color=\"blue\", alpha=0.5)"
   ]
  },
  {
   "cell_type": "code",
   "execution_count": 24,
   "metadata": {},
   "outputs": [
    {
     "ename": "NameError",
     "evalue": "name 'Agent' is not defined",
     "output_type": "error",
     "traceback": [
      "\u001b[1;31m---------------------------------------------------------------------------\u001b[0m",
      "\u001b[1;31mNameError\u001b[0m                                 Traceback (most recent call last)",
      "\u001b[1;32m<ipython-input-24-4c885004fa99>\u001b[0m in \u001b[0;36m<module>\u001b[1;34m()\u001b[0m\n\u001b[1;32m----> 1\u001b[1;33m \u001b[1;32mclass\u001b[0m \u001b[0mKfAgent\u001b[0m\u001b[1;33m(\u001b[0m\u001b[0mAgent\u001b[0m\u001b[1;33m)\u001b[0m\u001b[1;33m:\u001b[0m\u001b[1;33m\u001b[0m\u001b[0m\n\u001b[0m\u001b[0;32m      2\u001b[0m     \u001b[1;32mdef\u001b[0m \u001b[0m__init__\u001b[0m\u001b[1;33m(\u001b[0m\u001b[0mself\u001b[0m\u001b[1;33m,\u001b[0m \u001b[0mtime_interval\u001b[0m\u001b[1;33m,\u001b[0m \u001b[0mnu\u001b[0m\u001b[1;33m,\u001b[0m \u001b[0momega\u001b[0m\u001b[1;33m,\u001b[0m \u001b[0minit_pose\u001b[0m\u001b[1;33m,\u001b[0m \u001b[0menvmap\u001b[0m\u001b[1;33m,\u001b[0m                 \u001b[0mmotion_noise_stds\u001b[0m\u001b[1;33m=\u001b[0m\u001b[1;33m{\u001b[0m\u001b[1;34m\"nn\"\u001b[0m\u001b[1;33m:\u001b[0m\u001b[1;36m0.19\u001b[0m\u001b[1;33m,\u001b[0m \u001b[1;34m\"no\"\u001b[0m\u001b[1;33m:\u001b[0m\u001b[1;36m0.001\u001b[0m\u001b[1;33m,\u001b[0m \u001b[1;34m\"on\"\u001b[0m\u001b[1;33m:\u001b[0m\u001b[1;36m0.13\u001b[0m\u001b[1;33m,\u001b[0m \u001b[1;34m\"oo\"\u001b[0m\u001b[1;33m:\u001b[0m\u001b[1;36m0.2\u001b[0m\u001b[1;33m}\u001b[0m\u001b[1;33m)\u001b[0m\u001b[1;33m:\u001b[0m\u001b[1;33m\u001b[0m\u001b[0m\n\u001b[0;32m      3\u001b[0m         \u001b[0msuper\u001b[0m\u001b[1;33m(\u001b[0m\u001b[1;33m)\u001b[0m\u001b[1;33m.\u001b[0m\u001b[0m__init__\u001b[0m\u001b[1;33m(\u001b[0m\u001b[0mnu\u001b[0m\u001b[1;33m,\u001b[0m \u001b[0momega\u001b[0m\u001b[1;33m)\u001b[0m\u001b[1;33m\u001b[0m\u001b[0m\n\u001b[0;32m      4\u001b[0m         \u001b[0mself\u001b[0m\u001b[1;33m.\u001b[0m\u001b[0mkf\u001b[0m \u001b[1;33m=\u001b[0m \u001b[0mKalmanFilter\u001b[0m\u001b[1;33m(\u001b[0m\u001b[0menvmap\u001b[0m\u001b[1;33m,\u001b[0m \u001b[0minit_pose\u001b[0m\u001b[1;33m,\u001b[0m \u001b[0mmotion_noise_stds\u001b[0m\u001b[1;33m)\u001b[0m\u001b[1;33m\u001b[0m\u001b[0m\n\u001b[0;32m      5\u001b[0m         \u001b[0mself\u001b[0m\u001b[1;33m.\u001b[0m\u001b[0mtime_interval\u001b[0m \u001b[1;33m=\u001b[0m \u001b[0mtime_interval\u001b[0m\u001b[1;33m\u001b[0m\u001b[0m\n",
      "\u001b[1;31mNameError\u001b[0m: name 'Agent' is not defined"
     ]
    }
   ],
   "source": [
    "class KfAgent(Agent): \n",
    "    ###__init__をMclAgentからコピーして引数の整理###\n",
    "    def __init__(self, time_interval, nu, omega, init_pose, envmap, \\\n",
    "                motion_noise_stds={\"nn\":0.19, \"no\":0.001, \"on\":0.13, \"oo\":0.2}):\n",
    "        ###\"nn\":1[m]あたりに生じる直進方向の分散\n",
    "        ###\"no\":1[rad]あたりに生じる直進方向の分散\n",
    "        ###\"on\":1[m]あたりに生じる回転方向の分散\n",
    "        ###\"oo\":1[rad]あたりに生じる回転方向の分散\n",
    "        super().__init__(nu, omega)\n",
    "        self.kf = KalmanFilter(envmap, init_pose, motion_noise_stds) \n",
    "        self.time_interval = time_interval\n",
    "        \n",
    "        self.prev_nu = 0.0\n",
    "        self.prev_omega = 0.0\n",
    "        \n",
    "    ###selfの最終更新###\n",
    "    def decision(self, observation=None):  ###kfagent2\n",
    "        self.kf.motion_update(self.prev_nu, self.prev_omega, self.time_interval) \n",
    "        self.prev_nu, self.prev_omega = self.nu, self.omega\n",
    "        self.kf.observation_update(observation)   #追加\n",
    "        return self.nu, self.omega\n",
    "    \n",
    "    ###selfの描画###\n",
    "    def draw(self, ax, elems): #追加\n",
    "        self.kf.draw(ax, elems)"
   ]
  },
  {
   "cell_type": "code",
   "execution_count": 25,
   "metadata": {},
   "outputs": [
    {
     "ename": "NameError",
     "evalue": "name 'World' is not defined",
     "output_type": "error",
     "traceback": [
      "\u001b[1;31m---------------------------------------------------------------------------\u001b[0m",
      "\u001b[1;31mNameError\u001b[0m                                 Traceback (most recent call last)",
      "\u001b[1;32m<ipython-input-25-45e2c5c7ec10>\u001b[0m in \u001b[0;36m<module>\u001b[1;34m()\u001b[0m\n\u001b[0;32m      1\u001b[0m \u001b[1;32mif\u001b[0m \u001b[0m__name__\u001b[0m \u001b[1;33m==\u001b[0m \u001b[1;34m'__main__'\u001b[0m\u001b[1;33m:\u001b[0m\u001b[1;33m\u001b[0m\u001b[0m\n\u001b[0;32m      2\u001b[0m     \u001b[0mtime_interval\u001b[0m \u001b[1;33m=\u001b[0m \u001b[1;36m0.1\u001b[0m\u001b[1;33m\u001b[0m\u001b[0m\n\u001b[1;32m----> 3\u001b[1;33m     \u001b[0mworld\u001b[0m \u001b[1;33m=\u001b[0m \u001b[0mWorld\u001b[0m\u001b[1;33m(\u001b[0m\u001b[1;36m30\u001b[0m\u001b[1;33m,\u001b[0m \u001b[0mtime_interval\u001b[0m\u001b[1;33m)\u001b[0m\u001b[1;33m\u001b[0m\u001b[0m\n\u001b[0m\u001b[0;32m      4\u001b[0m \u001b[1;33m\u001b[0m\u001b[0m\n\u001b[0;32m      5\u001b[0m     \u001b[1;31m### 地図を生成して3つランドマークを追加 ###\u001b[0m\u001b[1;33m\u001b[0m\u001b[1;33m\u001b[0m\u001b[0m\n",
      "\u001b[1;31mNameError\u001b[0m: name 'World' is not defined"
     ]
    }
   ],
   "source": [
    "if __name__ == '__main__': \n",
    "    time_interval = 0.1\n",
    "    world = World(30, time_interval) \n",
    "\n",
    "    ### 地図を生成して3つランドマークを追加 ###\n",
    "    m = Map()                                  \n",
    "    m.append_landmark(Landmark(-4,2))\n",
    "    m.append_landmark(Landmark(2,-3))\n",
    "    m.append_landmark(Landmark(3,3))\n",
    "    world.append(m)          \n",
    "\n",
    "    ### ロボットを作る ###\n",
    "    circling = KfAgent(time_interval, 0.2, 10.0/180*math.pi, np.array([0, 0, 0]).T, m)\n",
    "    r = Robot(np.array([0, 0, 0]).T, sensor=Camera(m), agent=circling, color=\"red\")\n",
    "    world.append(r)\n",
    "    linear = KfAgent(time_interval, 0.1, 0.0, np.array([0, 0, 0]).T, m)\n",
    "    r = Robot(np.array([0, 0, 0]).T, sensor=Camera(m), agent=linear, color=\"red\")\n",
    "    world.append(r)\n",
    "    right = KfAgent(time_interval, 0.1, -3.0/180*math.pi, np.array([0, 0, 0]).T, m)\n",
    "    r = Robot(np.array([0, 0, 0]).T, sensor=Camera(m), agent=right, color=\"red\")\n",
    "    world.append(r)\n",
    "\n",
    "    world.draw()                       # アニメーションさせるとき\n",
    "   # r.one_step(time_interval)  # アニメーションなしでデバッグするとき"
   ]
  }
 ],
 "metadata": {
  "kernelspec": {
   "display_name": "Python 3",
   "language": "python",
   "name": "python3"
  },
  "language_info": {
   "codemirror_mode": {
    "name": "ipython",
    "version": 3
   },
   "file_extension": ".py",
   "mimetype": "text/x-python",
   "name": "python",
   "nbconvert_exporter": "python",
   "pygments_lexer": "ipython3",
   "version": "3.6.5"
  }
 },
 "nbformat": 4,
 "nbformat_minor": 2
}
